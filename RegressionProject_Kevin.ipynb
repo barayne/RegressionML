{
  "nbformat": 4,
  "nbformat_minor": 0,
  "metadata": {
    "colab": {
      "name": "RegressionProject_Kevin.ipynb",
      "provenance": []
    },
    "kernelspec": {
      "name": "python3",
      "display_name": "Python 3"
    },
    "language_info": {
      "name": "python"
    }
  },
  "cells": [
    {
      "cell_type": "markdown",
      "source": [
        "Mobile carrier Megaline has found out that many of their subscribers use legacy plans.\n",
        "They want to develop a model that would analyze subscribers' behavior and recommend\n",
        "one of Megaline's newer plans: Smart or Ultra.\n",
        "You have access to behavior data about subscribers who have already switched to the\n",
        "new plans (from the project for the Statistical Data Analysis course). For this\n",
        "classification task, you need to develop a model that will pick the right plan. Since you’ve\n",
        "already performed the data preprocessing step, you can move straight to creating the\n",
        "model.\n",
        "Develop a model with the highest possible accuracy. In this project, the threshold for\n",
        "accuracy is 0.75. Check the accuracy using the test dataset.\n",
        "1. Open and look through the data file.\n",
        "2. Split the source data into a training set, a validation set, and a test set.\n",
        "3. Investigate the quality of different models by changing hyperparameters. Briefly\n",
        "describe the findings of the study.\n",
        "4. Check the quality of the model using the test set.\n",
        "5. Additional task: sanity check the model. This data is more complex than what\n",
        "you’re used to working with, so it's not an easy task. We'll take a closer look at it\n",
        "later."
      ],
      "metadata": {
        "id": "a66Iq1IV_hZA"
      }
    },
    {
      "cell_type": "code",
      "source": [
        "# Import Libraries\n",
        "import pandas as pd\n",
        "from sklearn.tree import DecisionTreeClassifier\n",
        "from sklearn.ensemble import RandomForestClassifier\n",
        "from sklearn.metrics import accuracy_score\n",
        "from sklearn.model_selection import train_test_split\n",
        "from sklearn.linear_model import LogisticRegression\n",
        "from sklearn.model_selection import GridSearchCV\n",
        "from sklearn.metrics import precision_score\n",
        "\n",
        "\n",
        "# Read Data\n",
        "df_subs = pd.read_csv('https://bit.ly/UsersBehaviourTelco')\n",
        "\n",
        "# Preview records\n",
        "df_subs.head(5)"
      ],
      "metadata": {
        "colab": {
          "base_uri": "https://localhost:8080/",
          "height": 206
        },
        "id": "xcC-N1oe__om",
        "outputId": "da18b14b-0928-4943-950f-443f7fb8dded"
      },
      "execution_count": null,
      "outputs": [
        {
          "output_type": "execute_result",
          "data": {
            "text/html": [
              "\n",
              "  <div id=\"df-fbbecac4-c19b-4f67-83e7-d85358f7ec5e\">\n",
              "    <div class=\"colab-df-container\">\n",
              "      <div>\n",
              "<style scoped>\n",
              "    .dataframe tbody tr th:only-of-type {\n",
              "        vertical-align: middle;\n",
              "    }\n",
              "\n",
              "    .dataframe tbody tr th {\n",
              "        vertical-align: top;\n",
              "    }\n",
              "\n",
              "    .dataframe thead th {\n",
              "        text-align: right;\n",
              "    }\n",
              "</style>\n",
              "<table border=\"1\" class=\"dataframe\">\n",
              "  <thead>\n",
              "    <tr style=\"text-align: right;\">\n",
              "      <th></th>\n",
              "      <th>calls</th>\n",
              "      <th>minutes</th>\n",
              "      <th>messages</th>\n",
              "      <th>mb_used</th>\n",
              "      <th>is_ultra</th>\n",
              "    </tr>\n",
              "  </thead>\n",
              "  <tbody>\n",
              "    <tr>\n",
              "      <th>0</th>\n",
              "      <td>40.0</td>\n",
              "      <td>311.90</td>\n",
              "      <td>83.0</td>\n",
              "      <td>19915.42</td>\n",
              "      <td>0</td>\n",
              "    </tr>\n",
              "    <tr>\n",
              "      <th>1</th>\n",
              "      <td>85.0</td>\n",
              "      <td>516.75</td>\n",
              "      <td>56.0</td>\n",
              "      <td>22696.96</td>\n",
              "      <td>0</td>\n",
              "    </tr>\n",
              "    <tr>\n",
              "      <th>2</th>\n",
              "      <td>77.0</td>\n",
              "      <td>467.66</td>\n",
              "      <td>86.0</td>\n",
              "      <td>21060.45</td>\n",
              "      <td>0</td>\n",
              "    </tr>\n",
              "    <tr>\n",
              "      <th>3</th>\n",
              "      <td>106.0</td>\n",
              "      <td>745.53</td>\n",
              "      <td>81.0</td>\n",
              "      <td>8437.39</td>\n",
              "      <td>1</td>\n",
              "    </tr>\n",
              "    <tr>\n",
              "      <th>4</th>\n",
              "      <td>66.0</td>\n",
              "      <td>418.74</td>\n",
              "      <td>1.0</td>\n",
              "      <td>14502.75</td>\n",
              "      <td>0</td>\n",
              "    </tr>\n",
              "  </tbody>\n",
              "</table>\n",
              "</div>\n",
              "      <button class=\"colab-df-convert\" onclick=\"convertToInteractive('df-fbbecac4-c19b-4f67-83e7-d85358f7ec5e')\"\n",
              "              title=\"Convert this dataframe to an interactive table.\"\n",
              "              style=\"display:none;\">\n",
              "        \n",
              "  <svg xmlns=\"http://www.w3.org/2000/svg\" height=\"24px\"viewBox=\"0 0 24 24\"\n",
              "       width=\"24px\">\n",
              "    <path d=\"M0 0h24v24H0V0z\" fill=\"none\"/>\n",
              "    <path d=\"M18.56 5.44l.94 2.06.94-2.06 2.06-.94-2.06-.94-.94-2.06-.94 2.06-2.06.94zm-11 1L8.5 8.5l.94-2.06 2.06-.94-2.06-.94L8.5 2.5l-.94 2.06-2.06.94zm10 10l.94 2.06.94-2.06 2.06-.94-2.06-.94-.94-2.06-.94 2.06-2.06.94z\"/><path d=\"M17.41 7.96l-1.37-1.37c-.4-.4-.92-.59-1.43-.59-.52 0-1.04.2-1.43.59L10.3 9.45l-7.72 7.72c-.78.78-.78 2.05 0 2.83L4 21.41c.39.39.9.59 1.41.59.51 0 1.02-.2 1.41-.59l7.78-7.78 2.81-2.81c.8-.78.8-2.07 0-2.86zM5.41 20L4 18.59l7.72-7.72 1.47 1.35L5.41 20z\"/>\n",
              "  </svg>\n",
              "      </button>\n",
              "      \n",
              "  <style>\n",
              "    .colab-df-container {\n",
              "      display:flex;\n",
              "      flex-wrap:wrap;\n",
              "      gap: 12px;\n",
              "    }\n",
              "\n",
              "    .colab-df-convert {\n",
              "      background-color: #E8F0FE;\n",
              "      border: none;\n",
              "      border-radius: 50%;\n",
              "      cursor: pointer;\n",
              "      display: none;\n",
              "      fill: #1967D2;\n",
              "      height: 32px;\n",
              "      padding: 0 0 0 0;\n",
              "      width: 32px;\n",
              "    }\n",
              "\n",
              "    .colab-df-convert:hover {\n",
              "      background-color: #E2EBFA;\n",
              "      box-shadow: 0px 1px 2px rgba(60, 64, 67, 0.3), 0px 1px 3px 1px rgba(60, 64, 67, 0.15);\n",
              "      fill: #174EA6;\n",
              "    }\n",
              "\n",
              "    [theme=dark] .colab-df-convert {\n",
              "      background-color: #3B4455;\n",
              "      fill: #D2E3FC;\n",
              "    }\n",
              "\n",
              "    [theme=dark] .colab-df-convert:hover {\n",
              "      background-color: #434B5C;\n",
              "      box-shadow: 0px 1px 3px 1px rgba(0, 0, 0, 0.15);\n",
              "      filter: drop-shadow(0px 1px 2px rgba(0, 0, 0, 0.3));\n",
              "      fill: #FFFFFF;\n",
              "    }\n",
              "  </style>\n",
              "\n",
              "      <script>\n",
              "        const buttonEl =\n",
              "          document.querySelector('#df-fbbecac4-c19b-4f67-83e7-d85358f7ec5e button.colab-df-convert');\n",
              "        buttonEl.style.display =\n",
              "          google.colab.kernel.accessAllowed ? 'block' : 'none';\n",
              "\n",
              "        async function convertToInteractive(key) {\n",
              "          const element = document.querySelector('#df-fbbecac4-c19b-4f67-83e7-d85358f7ec5e');\n",
              "          const dataTable =\n",
              "            await google.colab.kernel.invokeFunction('convertToInteractive',\n",
              "                                                     [key], {});\n",
              "          if (!dataTable) return;\n",
              "\n",
              "          const docLinkHtml = 'Like what you see? Visit the ' +\n",
              "            '<a target=\"_blank\" href=https://colab.research.google.com/notebooks/data_table.ipynb>data table notebook</a>'\n",
              "            + ' to learn more about interactive tables.';\n",
              "          element.innerHTML = '';\n",
              "          dataTable['output_type'] = 'display_data';\n",
              "          await google.colab.output.renderOutput(dataTable, element);\n",
              "          const docLink = document.createElement('div');\n",
              "          docLink.innerHTML = docLinkHtml;\n",
              "          element.appendChild(docLink);\n",
              "        }\n",
              "      </script>\n",
              "    </div>\n",
              "  </div>\n",
              "  "
            ],
            "text/plain": [
              "   calls  minutes  messages   mb_used  is_ultra\n",
              "0   40.0   311.90      83.0  19915.42         0\n",
              "1   85.0   516.75      56.0  22696.96         0\n",
              "2   77.0   467.66      86.0  21060.45         0\n",
              "3  106.0   745.53      81.0   8437.39         1\n",
              "4   66.0   418.74       1.0  14502.75         0"
            ]
          },
          "metadata": {},
          "execution_count": 1
        }
      ]
    },
    {
      "cell_type": "markdown",
      "source": [
        "Data Cleaning"
      ],
      "metadata": {
        "id": "P2E5XqLDBjgU"
      }
    },
    {
      "cell_type": "code",
      "source": [
        "# Check for null values\n",
        "\n",
        "df_subs.isna().sum()\n",
        "df_subs.info()\n",
        "#Let's study the data types of the dataframe\n",
        "df_subs['messages'] = df_subs['messages'].astype(int) \n",
        "df_subs['calls'] = df_subs['calls'].astype(int) "
      ],
      "metadata": {
        "colab": {
          "base_uri": "https://localhost:8080/"
        },
        "id": "ds1MDp35BlEE",
        "outputId": "595956ca-f92c-42b3-e108-3c843529a675"
      },
      "execution_count": null,
      "outputs": [
        {
          "output_type": "stream",
          "name": "stdout",
          "text": [
            "<class 'pandas.core.frame.DataFrame'>\n",
            "RangeIndex: 3214 entries, 0 to 3213\n",
            "Data columns (total 5 columns):\n",
            " #   Column    Non-Null Count  Dtype  \n",
            "---  ------    --------------  -----  \n",
            " 0   calls     3214 non-null   int64  \n",
            " 1   minutes   3214 non-null   float64\n",
            " 2   messages  3214 non-null   int64  \n",
            " 3   mb_used   3214 non-null   float64\n",
            " 4   is_ultra  3214 non-null   int64  \n",
            "dtypes: float64(2), int64(3)\n",
            "memory usage: 125.7 KB\n"
          ]
        }
      ]
    },
    {
      "cell_type": "markdown",
      "source": [
        "Split Dataset"
      ],
      "metadata": {
        "id": "M9RIufrFGKER"
      }
    },
    {
      "cell_type": "code",
      "source": [
        "#Split dataset into 20% for testing and 80% for training.\n",
        "features = df_subs.drop(columns=['is_ultra'])\n",
        "target =  df_subs['is_ultra']\n",
        "features_train, features_test, target_train, target_test = train_test_split(features, target, test_size=0.20, random_state=12345)\n",
        "features_train, features_valid, target_train, target_valid = train_test_split(features_train, target_train, test_size=0.2, random_state=12345)\n",
        "\n",
        "print(features_train.shape)\n",
        "print(features_test.shape)\n",
        "print(target_train.shape)\n",
        "print(target_test.shape)"
      ],
      "metadata": {
        "colab": {
          "base_uri": "https://localhost:8080/"
        },
        "id": "XxqQFkNHGM4p",
        "outputId": "28d0511c-c5c2-4b6a-81e7-916462ccd8c2"
      },
      "execution_count": null,
      "outputs": [
        {
          "output_type": "stream",
          "name": "stdout",
          "text": [
            "(2056, 4)\n",
            "(643, 4)\n",
            "(2056,)\n",
            "(643,)\n"
          ]
        }
      ]
    },
    {
      "cell_type": "code",
      "source": [
        "#First, let fit the datasets to a Logistic Regression model\n",
        "LogRegMod = LogisticRegression(random_state=12345, solver='liblinear') \n",
        "LogRegMod.fit(features_train, target_train) \n",
        "LogRegMod.score(features_train, target_train)"
      ],
      "metadata": {
        "colab": {
          "base_uri": "https://localhost:8080/"
        },
        "id": "5QZmvB73GheD",
        "outputId": "628e099d-25e0-42cc-a1ab-9bdbc45fa0d4"
      },
      "execution_count": null,
      "outputs": [
        {
          "output_type": "execute_result",
          "data": {
            "text/plain": [
              "0.745136186770428"
            ]
          },
          "metadata": {},
          "execution_count": 19
        }
      ]
    },
    {
      "cell_type": "code",
      "source": [
        "#Now, let us fit a decision tree model\n",
        "DecTreeMod = DecisionTreeClassifier(random_state=12345, max_depth=5)\n",
        "\n",
        "DecTreeMod.fit(features_train, target_train)\n",
        "DecTreeMod.score(features_train, target_train)"
      ],
      "metadata": {
        "colab": {
          "base_uri": "https://localhost:8080/"
        },
        "id": "bgxT1F6YJmWt",
        "outputId": "2f488a32-b5bb-4bbd-de59-47ae70423e62"
      },
      "execution_count": null,
      "outputs": [
        {
          "output_type": "execute_result",
          "data": {
            "text/plain": [
              "0.828307392996109"
            ]
          },
          "metadata": {},
          "execution_count": 21
        }
      ]
    },
    {
      "cell_type": "code",
      "source": [
        "depth_param = {'max_depth':range(1,25)}\n",
        "DecTreeMod = DecisionTreeClassifier(random_state=12345)\n",
        "DecTreeModOpt = GridSearchCV(DecTreeMod,depth_param)\n",
        "DecTreeModOpt.fit(features_train, target_train)\n",
        "DecTreeModOpt.score(features_train, target_train)\n",
        "print(DecTreeModOpt.best_estimator_)"
      ],
      "metadata": {
        "colab": {
          "base_uri": "https://localhost:8080/"
        },
        "id": "QfmcjvZiJt_g",
        "outputId": "3f43ac92-7cb3-42df-8f0d-b58846007b93"
      },
      "execution_count": null,
      "outputs": [
        {
          "output_type": "stream",
          "name": "stdout",
          "text": [
            "DecisionTreeClassifier(max_depth=4, random_state=12345)\n"
          ]
        }
      ]
    },
    {
      "cell_type": "code",
      "source": [
        "depth_param = {'max_depth':range(1,10), 'n_estimators':range(1,50)}\n",
        "RandForestMod = RandomForestClassifier(random_state=12345)\n",
        "RandForestOpt = GridSearchCV(RandForestMod,depth_param)\n",
        "RandForestOpt.fit(features_train, target_train)\n",
        "print(RandForestOpt.best_estimator_)\n",
        "RandForestOpt.score(features_train, target_train)"
      ],
      "metadata": {
        "colab": {
          "base_uri": "https://localhost:8080/"
        },
        "id": "RafGqPIWLK1k",
        "outputId": "2f4f0402-ecc1-43d0-805e-d49c3a580edb"
      },
      "execution_count": null,
      "outputs": [
        {
          "output_type": "stream",
          "name": "stdout",
          "text": [
            "RandomForestClassifier(max_depth=7, n_estimators=42, random_state=12345)\n"
          ]
        },
        {
          "output_type": "execute_result",
          "data": {
            "text/plain": [
              "0.8599221789883269"
            ]
          },
          "metadata": {},
          "execution_count": 23
        }
      ]
    },
    {
      "cell_type": "code",
      "source": [
        "features_test_accuracy = features_test\n",
        "predictions_test_accuracy = RandForestOpt.predict(features_test_accuracy)\n",
        "quality = accuracy_score(target_test, predictions_test_accuracy)\n",
        "quality"
      ],
      "metadata": {
        "colab": {
          "base_uri": "https://localhost:8080/"
        },
        "id": "Tob_Wc8oLRhq",
        "outputId": "90adc558-561f-4488-81a7-73a0998f4095"
      },
      "execution_count": null,
      "outputs": [
        {
          "output_type": "execute_result",
          "data": {
            "text/plain": [
              "0.7884914463452566"
            ]
          },
          "metadata": {},
          "execution_count": 24
        }
      ]
    },
    {
      "cell_type": "code",
      "source": [
        "features_test_accuracy = features_test\n",
        "predictions_test_accuracy = DecTreeModOpt.predict(features_test_accuracy)\n",
        "quality = accuracy_score(target_test, predictions_test_accuracy)\n",
        "quality"
      ],
      "metadata": {
        "colab": {
          "base_uri": "https://localhost:8080/"
        },
        "id": "XL404H6HMGXI",
        "outputId": "976cc95c-dba6-4bd7-8eb3-35d18bca6968"
      },
      "execution_count": null,
      "outputs": [
        {
          "output_type": "execute_result",
          "data": {
            "text/plain": [
              "0.7884914463452566"
            ]
          },
          "metadata": {},
          "execution_count": 25
        }
      ]
    },
    {
      "cell_type": "code",
      "source": [
        "precision = precision_score(RandForestOpt.predict(features_test_accuracy), target_test)\n",
        "precision "
      ],
      "metadata": {
        "colab": {
          "base_uri": "https://localhost:8080/"
        },
        "id": "AQbK3yiKMPZp",
        "outputId": "a0c67907-01b6-41e5-cda9-b69f28c99a72"
      },
      "execution_count": null,
      "outputs": [
        {
          "output_type": "execute_result",
          "data": {
            "text/plain": [
              "0.46938775510204084"
            ]
          },
          "metadata": {},
          "execution_count": 26
        }
      ]
    },
    {
      "cell_type": "code",
      "source": [
        "precision = precision_score(DecTreeModOpt.predict(features_test_accuracy), target_test)\n",
        "precision "
      ],
      "metadata": {
        "colab": {
          "base_uri": "https://localhost:8080/"
        },
        "id": "KRS8kL4WMRJ3",
        "outputId": "c3fa43ab-1aca-41d8-946a-c0bfc917be99"
      },
      "execution_count": null,
      "outputs": [
        {
          "output_type": "execute_result",
          "data": {
            "text/plain": [
              "0.4642857142857143"
            ]
          },
          "metadata": {},
          "execution_count": 27
        }
      ]
    }
  ]
}